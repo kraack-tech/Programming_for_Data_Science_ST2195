{
 "cells": [
  {
   "cell_type": "code",
   "execution_count": 1,
   "id": "51c780ae",
   "metadata": {},
   "outputs": [],
   "source": [
    "library(rvest)"
   ]
  },
  {
   "cell_type": "code",
   "execution_count": 3,
   "id": "2ef0cbfc",
   "metadata": {},
   "outputs": [],
   "source": [
    "#Read html\n",
    "\n",
    "cars <- read_html(\"https://en.wikipedia.org/wiki/Comma-separated_values\")"
   ]
  },
  {
   "cell_type": "code",
   "execution_count": 4,
   "id": "359f8386",
   "metadata": {},
   "outputs": [
    {
     "data": {
      "text/html": [
       "<table>\n",
       "<thead><tr><th scope=col>Year</th><th scope=col>Make</th><th scope=col>Model</th><th scope=col>Description</th><th scope=col>Price</th></tr></thead>\n",
       "<tbody>\n",
       "\t<tr><td>1997                                  </td><td>Ford                                  </td><td>E350                                  </td><td>ac, abs, moon                         </td><td>3000                                  </td></tr>\n",
       "\t<tr><td>1999                                  </td><td>Chevy                                 </td><td>Venture \"Extended Edition\"            </td><td>                                      </td><td>4900                                  </td></tr>\n",
       "\t<tr><td>1999                                  </td><td>Chevy                                 </td><td>Venture \"Extended Edition, Very Large\"</td><td>                                      </td><td>5000                                  </td></tr>\n",
       "\t<tr><td>1996                                  </td><td>Jeep                                  </td><td>Grand Cherokee                        </td><td>MUST SELL!air, moon roof, loaded      </td><td>4799                                  </td></tr>\n",
       "</tbody>\n",
       "</table>\n"
      ],
      "text/latex": [
       "\\begin{tabular}{r|lllll}\n",
       " Year & Make & Model & Description & Price\\\\\n",
       "\\hline\n",
       "\t 1997                                   & Ford                                   & E350                                   & ac, abs, moon                          & 3000                                  \\\\\n",
       "\t 1999                                   & Chevy                                  & Venture \"Extended Edition\"             &                                        & 4900                                  \\\\\n",
       "\t 1999                                   & Chevy                                  & Venture \"Extended Edition, Very Large\" &                                        & 5000                                  \\\\\n",
       "\t 1996                                   & Jeep                                   & Grand Cherokee                         & MUST SELL!air, moon roof, loaded       & 4799                                  \\\\\n",
       "\\end{tabular}\n"
      ],
      "text/markdown": [
       "\n",
       "| Year | Make | Model | Description | Price |\n",
       "|---|---|---|---|---|\n",
       "| 1997                                   | Ford                                   | E350                                   | ac, abs, moon                          | 3000                                   |\n",
       "| 1999                                   | Chevy                                  | Venture \"Extended Edition\"             |                                        | 4900                                   |\n",
       "| 1999                                   | Chevy                                  | Venture \"Extended Edition, Very Large\" |                                        | 5000                                   |\n",
       "| 1996                                   | Jeep                                   | Grand Cherokee                         | MUST SELL!air, moon roof, loaded       | 4799                                   |\n",
       "\n"
      ],
      "text/plain": [
       "  Year Make  Model                                 \n",
       "1 1997 Ford  E350                                  \n",
       "2 1999 Chevy Venture \"Extended Edition\"            \n",
       "3 1999 Chevy Venture \"Extended Edition, Very Large\"\n",
       "4 1996 Jeep  Grand Cherokee                        \n",
       "  Description                      Price\n",
       "1 ac, abs, moon                    3000 \n",
       "2                                  4900 \n",
       "3                                  5000 \n",
       "4 MUST SELL!air, moon roof, loaded 4799 "
      ]
     },
     "metadata": {},
     "output_type": "display_data"
    }
   ],
   "source": [
    "#See table\n",
    "cars %>% \n",
    "  html_element(\".wikitable\") %>% \n",
    "  html_table()"
   ]
  },
  {
   "cell_type": "code",
   "execution_count": 5,
   "id": "6cf62e2e",
   "metadata": {},
   "outputs": [],
   "source": [
    "#Dataframe \n",
    "\n",
    "df<-html_table(html_nodes(cars, '.wikitable'), fill = TRUE) "
   ]
  },
  {
   "cell_type": "code",
   "execution_count": 6,
   "id": "c3d6f3ed",
   "metadata": {},
   "outputs": [],
   "source": [
    "#Export to csv\n",
    "\n",
    "write.csv(df,file=\"cars_table.csv\", row.names=FALSE)"
   ]
  }
 ],
 "metadata": {
  "kernelspec": {
   "display_name": "R",
   "language": "R",
   "name": "ir"
  },
  "language_info": {
   "codemirror_mode": "r",
   "file_extension": ".r",
   "mimetype": "text/x-r-source",
   "name": "R",
   "pygments_lexer": "r",
   "version": "3.6.1"
  }
 },
 "nbformat": 4,
 "nbformat_minor": 5
}
